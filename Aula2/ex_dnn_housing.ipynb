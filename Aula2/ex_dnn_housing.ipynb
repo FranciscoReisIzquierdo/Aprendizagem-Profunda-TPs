{
 "cells": [
  {
   "cell_type": "markdown",
   "metadata": {},
   "source": [
    "### Example of DNNs in regression - Housing dataset"
   ]
  },
  {
   "cell_type": "markdown",
   "metadata": {},
   "source": [
    "Loading data"
   ]
  },
  {
   "cell_type": "code",
   "execution_count": 2,
   "metadata": {},
   "outputs": [
    {
     "name": "stdout",
     "output_type": "stream",
     "text": [
      "(404, 13)\n",
      "(102, 13)\n",
      "50.0 5.0\n"
     ]
    }
   ],
   "source": [
    "from tensorflow.keras.datasets import boston_housing\n",
    "(train_data, train_targets), (test_data, test_targets) = boston_housing.load_data()\n",
    "\n",
    "print(train_data.shape)\n",
    "print(test_data.shape)\n",
    "print(max(train_targets), min(train_targets))"
   ]
  },
  {
   "cell_type": "markdown",
   "metadata": {},
   "source": [
    "Standardizing data"
   ]
  },
  {
   "cell_type": "code",
   "execution_count": 3,
   "metadata": {},
   "outputs": [],
   "source": [
    "mean = train_data.mean(axis=0)\n",
    "train_data -= mean\n",
    "std = train_data.std(axis=0)\n",
    "train_data /= std\n",
    "test_data -= mean\n",
    "test_data /= std"
   ]
  },
  {
   "cell_type": "markdown",
   "metadata": {},
   "source": [
    "Building the model (deine function to enable more flexibility in tests)"
   ]
  },
  {
   "cell_type": "code",
   "execution_count": 4,
   "metadata": {},
   "outputs": [],
   "source": [
    "from tensorflow.keras import models\n",
    "from tensorflow.keras import layers\n",
    "\n",
    "def build_model(hidden = 64):\n",
    "    model = models.Sequential()\n",
    "    model.add(layers.Dense(hidden, activation='relu',\n",
    "                            input_shape=(train_data.shape[1],)))\n",
    "    model.add(layers.Dense(hidden, activation='relu'))\n",
    "    model.add(layers.Dense(1))\n",
    "    model.compile(optimizer='rmsprop', loss='mse', metrics=['mae'])\n",
    "    return model"
   ]
  },
  {
   "cell_type": "code",
   "execution_count": 5,
   "metadata": {},
   "outputs": [
    {
     "name": "stdout",
     "output_type": "stream",
     "text": [
      "Epoch 1/80\n"
     ]
    },
    {
     "name": "stderr",
     "output_type": "stream",
     "text": [
      "2023-02-27 14:58:51.641487: E tensorflow/compiler/xla/stream_executor/cuda/cuda_driver.cc:267] failed call to cuInit: CUDA_ERROR_NO_DEVICE: no CUDA-capable device is detected\n",
      "2023-02-27 14:58:51.641524: I tensorflow/compiler/xla/stream_executor/cuda/cuda_diagnostics.cc:156] kernel driver does not appear to be running on this host (franciscoizquierdo-GF65-Thin-10UE): /proc/driver/nvidia/version does not exist\n",
      "2023-02-27 14:58:51.641978: I tensorflow/core/platform/cpu_feature_guard.cc:193] This TensorFlow binary is optimized with oneAPI Deep Neural Network Library (oneDNN) to use the following CPU instructions in performance-critical operations:  AVX2 FMA\n",
      "To enable them in other operations, rebuild TensorFlow with the appropriate compiler flags.\n"
     ]
    },
    {
     "name": "stdout",
     "output_type": "stream",
     "text": [
      "26/26 [==============================] - 0s 857us/step - loss: 497.3827 - mae: 20.4491\n",
      "Epoch 2/80\n",
      "26/26 [==============================] - 0s 738us/step - loss: 335.2344 - mae: 16.2579\n",
      "Epoch 3/80\n",
      "26/26 [==============================] - 0s 715us/step - loss: 167.3736 - mae: 10.6246\n",
      "Epoch 4/80\n",
      "26/26 [==============================] - 0s 689us/step - loss: 74.9106 - mae: 6.4954\n",
      "Epoch 5/80\n",
      "26/26 [==============================] - 0s 783us/step - loss: 43.4666 - mae: 4.7962\n",
      "Epoch 6/80\n",
      "26/26 [==============================] - 0s 745us/step - loss: 31.2724 - mae: 3.9965\n",
      "Epoch 7/80\n",
      "26/26 [==============================] - 0s 656us/step - loss: 25.9693 - mae: 3.6228\n",
      "Epoch 8/80\n",
      "26/26 [==============================] - 0s 713us/step - loss: 23.3551 - mae: 3.4303\n",
      "Epoch 9/80\n",
      "26/26 [==============================] - 0s 702us/step - loss: 20.9893 - mae: 3.1901\n",
      "Epoch 10/80\n",
      "26/26 [==============================] - 0s 656us/step - loss: 19.3960 - mae: 3.0709\n",
      "Epoch 11/80\n",
      "26/26 [==============================] - 0s 658us/step - loss: 17.8159 - mae: 2.9606\n",
      "Epoch 12/80\n",
      "26/26 [==============================] - 0s 776us/step - loss: 16.3760 - mae: 2.8309\n",
      "Epoch 13/80\n",
      "26/26 [==============================] - 0s 730us/step - loss: 15.2191 - mae: 2.7170\n",
      "Epoch 14/80\n",
      "26/26 [==============================] - 0s 686us/step - loss: 14.3916 - mae: 2.6232\n",
      "Epoch 15/80\n",
      "26/26 [==============================] - 0s 707us/step - loss: 14.1484 - mae: 2.5885\n",
      "Epoch 16/80\n",
      "26/26 [==============================] - 0s 758us/step - loss: 12.9747 - mae: 2.5194\n",
      "Epoch 17/80\n",
      "26/26 [==============================] - 0s 772us/step - loss: 13.1431 - mae: 2.4676\n",
      "Epoch 18/80\n",
      "26/26 [==============================] - 0s 697us/step - loss: 12.3950 - mae: 2.4442\n",
      "Epoch 19/80\n",
      "26/26 [==============================] - 0s 771us/step - loss: 11.8657 - mae: 2.3900\n",
      "Epoch 20/80\n",
      "26/26 [==============================] - 0s 762us/step - loss: 11.4411 - mae: 2.3499\n",
      "Epoch 21/80\n",
      "26/26 [==============================] - 0s 661us/step - loss: 11.2451 - mae: 2.3359\n",
      "Epoch 22/80\n",
      "26/26 [==============================] - 0s 741us/step - loss: 10.8571 - mae: 2.2783\n",
      "Epoch 23/80\n",
      "26/26 [==============================] - 0s 757us/step - loss: 10.6755 - mae: 2.2987\n",
      "Epoch 24/80\n",
      "26/26 [==============================] - 0s 757us/step - loss: 10.5401 - mae: 2.2821\n",
      "Epoch 25/80\n",
      "26/26 [==============================] - 0s 735us/step - loss: 10.2812 - mae: 2.2408\n",
      "Epoch 26/80\n",
      "26/26 [==============================] - 0s 730us/step - loss: 10.1663 - mae: 2.2350\n",
      "Epoch 27/80\n",
      "26/26 [==============================] - 0s 741us/step - loss: 9.9091 - mae: 2.1906\n",
      "Epoch 28/80\n",
      "26/26 [==============================] - 0s 729us/step - loss: 9.8903 - mae: 2.1492\n",
      "Epoch 29/80\n",
      "26/26 [==============================] - 0s 730us/step - loss: 9.7030 - mae: 2.1468\n",
      "Epoch 30/80\n",
      "26/26 [==============================] - 0s 816us/step - loss: 9.4503 - mae: 2.1528\n",
      "Epoch 31/80\n",
      "26/26 [==============================] - 0s 652us/step - loss: 9.3593 - mae: 2.1040\n",
      "Epoch 32/80\n",
      "26/26 [==============================] - 0s 703us/step - loss: 9.2918 - mae: 2.1223\n",
      "Epoch 33/80\n",
      "26/26 [==============================] - 0s 730us/step - loss: 9.1112 - mae: 2.0780\n",
      "Epoch 34/80\n",
      "26/26 [==============================] - 0s 662us/step - loss: 8.9495 - mae: 2.0608\n",
      "Epoch 35/80\n",
      "26/26 [==============================] - 0s 664us/step - loss: 8.7643 - mae: 2.0543\n",
      "Epoch 36/80\n",
      "26/26 [==============================] - 0s 662us/step - loss: 8.8469 - mae: 2.0516\n",
      "Epoch 37/80\n",
      "26/26 [==============================] - 0s 754us/step - loss: 8.7619 - mae: 2.0583\n",
      "Epoch 38/80\n",
      "26/26 [==============================] - 0s 746us/step - loss: 8.6426 - mae: 2.0453\n",
      "Epoch 39/80\n",
      "26/26 [==============================] - 0s 670us/step - loss: 8.5412 - mae: 1.9871\n",
      "Epoch 40/80\n",
      "26/26 [==============================] - 0s 779us/step - loss: 8.4026 - mae: 1.9676\n",
      "Epoch 41/80\n",
      "26/26 [==============================] - 0s 726us/step - loss: 8.2360 - mae: 1.9868\n",
      "Epoch 42/80\n",
      "26/26 [==============================] - 0s 764us/step - loss: 8.3178 - mae: 1.9605\n",
      "Epoch 43/80\n",
      "26/26 [==============================] - 0s 837us/step - loss: 8.2289 - mae: 1.9822\n",
      "Epoch 44/80\n",
      "26/26 [==============================] - 0s 849us/step - loss: 7.9779 - mae: 1.9570\n",
      "Epoch 45/80\n",
      "26/26 [==============================] - 0s 810us/step - loss: 7.8994 - mae: 1.9490\n",
      "Epoch 46/80\n",
      "26/26 [==============================] - 0s 797us/step - loss: 7.8286 - mae: 1.9286\n",
      "Epoch 47/80\n",
      "26/26 [==============================] - 0s 748us/step - loss: 7.6685 - mae: 1.9236\n",
      "Epoch 48/80\n",
      "26/26 [==============================] - 0s 695us/step - loss: 7.8987 - mae: 1.9446\n",
      "Epoch 49/80\n",
      "26/26 [==============================] - 0s 717us/step - loss: 7.6928 - mae: 1.8953\n",
      "Epoch 50/80\n",
      "26/26 [==============================] - 0s 674us/step - loss: 7.6465 - mae: 1.9002\n",
      "Epoch 51/80\n",
      "26/26 [==============================] - 0s 649us/step - loss: 7.6414 - mae: 1.8716\n",
      "Epoch 52/80\n",
      "26/26 [==============================] - 0s 724us/step - loss: 7.3385 - mae: 1.8775\n",
      "Epoch 53/80\n",
      "26/26 [==============================] - 0s 739us/step - loss: 7.5939 - mae: 1.8818\n",
      "Epoch 54/80\n",
      "26/26 [==============================] - 0s 760us/step - loss: 7.3534 - mae: 1.8566\n",
      "Epoch 55/80\n",
      "26/26 [==============================] - 0s 738us/step - loss: 7.3506 - mae: 1.8434\n",
      "Epoch 56/80\n",
      "26/26 [==============================] - 0s 755us/step - loss: 7.3908 - mae: 1.8589\n",
      "Epoch 57/80\n",
      "26/26 [==============================] - 0s 652us/step - loss: 7.1188 - mae: 1.8495\n",
      "Epoch 58/80\n",
      "26/26 [==============================] - 0s 653us/step - loss: 7.1677 - mae: 1.8370\n",
      "Epoch 59/80\n",
      "26/26 [==============================] - 0s 692us/step - loss: 7.0091 - mae: 1.8156\n",
      "Epoch 60/80\n",
      "26/26 [==============================] - 0s 655us/step - loss: 6.9947 - mae: 1.8410\n",
      "Epoch 61/80\n",
      "26/26 [==============================] - 0s 703us/step - loss: 6.8973 - mae: 1.8030\n",
      "Epoch 62/80\n",
      "26/26 [==============================] - 0s 697us/step - loss: 7.1130 - mae: 1.8506\n",
      "Epoch 63/80\n",
      "26/26 [==============================] - 0s 723us/step - loss: 6.8745 - mae: 1.7939\n",
      "Epoch 64/80\n",
      "26/26 [==============================] - 0s 712us/step - loss: 6.7256 - mae: 1.7908\n",
      "Epoch 65/80\n",
      "26/26 [==============================] - 0s 725us/step - loss: 6.8041 - mae: 1.7871\n",
      "Epoch 66/80\n",
      "26/26 [==============================] - 0s 694us/step - loss: 6.6062 - mae: 1.8264\n",
      "Epoch 67/80\n",
      "26/26 [==============================] - 0s 672us/step - loss: 6.7947 - mae: 1.7657\n",
      "Epoch 68/80\n",
      "26/26 [==============================] - 0s 659us/step - loss: 6.5381 - mae: 1.7734\n",
      "Epoch 69/80\n",
      "26/26 [==============================] - 0s 744us/step - loss: 6.6855 - mae: 1.7586\n",
      "Epoch 70/80\n",
      "26/26 [==============================] - 0s 754us/step - loss: 6.4543 - mae: 1.7433\n",
      "Epoch 71/80\n",
      "26/26 [==============================] - 0s 735us/step - loss: 6.4681 - mae: 1.7558\n",
      "Epoch 72/80\n",
      "26/26 [==============================] - 0s 701us/step - loss: 6.3523 - mae: 1.7743\n",
      "Epoch 73/80\n",
      "26/26 [==============================] - 0s 751us/step - loss: 6.3473 - mae: 1.7753\n",
      "Epoch 74/80\n",
      "26/26 [==============================] - 0s 844us/step - loss: 6.3524 - mae: 1.7026\n",
      "Epoch 75/80\n",
      "26/26 [==============================] - 0s 857us/step - loss: 6.3213 - mae: 1.7359\n",
      "Epoch 76/80\n",
      "26/26 [==============================] - 0s 847us/step - loss: 6.3540 - mae: 1.7056\n",
      "Epoch 77/80\n",
      "26/26 [==============================] - 0s 847us/step - loss: 6.2485 - mae: 1.6911\n",
      "Epoch 78/80\n",
      "26/26 [==============================] - 0s 777us/step - loss: 6.2290 - mae: 1.7080\n",
      "Epoch 79/80\n",
      "26/26 [==============================] - 0s 791us/step - loss: 6.2711 - mae: 1.7059\n",
      "Epoch 80/80\n",
      "26/26 [==============================] - 0s 807us/step - loss: 5.9715 - mae: 1.6900\n",
      "4/4 [==============================] - 0s 1ms/step - loss: 17.5003 - mae: 2.5716\n",
      "17.500293731689453 2.571636199951172\n"
     ]
    }
   ],
   "source": [
    "model = build_model()\n",
    "model.fit(train_data, train_targets, epochs=80, batch_size=16, verbose=1)\n",
    "\n",
    "test_mse_score, test_mae_score = model.evaluate(test_data, test_targets)\n",
    "print(test_mse_score, test_mae_score)"
   ]
  },
  {
   "cell_type": "code",
   "execution_count": 7,
   "metadata": {},
   "outputs": [
    {
     "name": "stdout",
     "output_type": "stream",
     "text": [
      "processing fold # 0\n",
      "processing fold # 1\n",
      "processing fold # 2\n",
      "processing fold # 3\n",
      "processing fold # 4\n",
      "[1.885538101196289, 2.7977218627929688, 2.282827854156494, 1.7222213745117188, 1.5181291103363037]\n",
      "2.041287660598755\n"
     ]
    }
   ],
   "source": [
    "import numpy as np\n",
    "k = 5\n",
    "num_val_samples = len(train_data) // k \n",
    "num_epochs = 100\n",
    "all_scores = []\n",
    "model = build_model()\n",
    "for i in range(k):\n",
    "    print('processing fold #', i)\n",
    "    val_data = train_data[i*num_val_samples: (i+1)*num_val_samples]\n",
    "    val_targets = train_targets[i*num_val_samples: (i+1)*num_val_samples]\n",
    "    partial_train_data = np.concatenate( [train_data[:i*num_val_samples], train_data[(i+1)*num_val_samples:]], axis=0)\n",
    "    partial_train_targets = np.concatenate( [train_targets[:i*num_val_samples], train_targets[(i+1)*num_val_samples:]], axis=0)\n",
    "    model.fit(partial_train_data, partial_train_targets, epochs=num_epochs, batch_size=1, verbose=0)\n",
    "    val_mse, val_mae = model.evaluate(val_data, val_targets, verbose=0)\n",
    "    all_scores.append(val_mae)\n",
    "print(all_scores)\n",
    "print(np.mean(all_scores))"
   ]
  }
 ],
 "metadata": {
  "kernelspec": {
   "display_name": "Python 3 (ipykernel)",
   "language": "python",
   "name": "python3"
  },
  "language_info": {
   "codemirror_mode": {
    "name": "ipython",
    "version": 3
   },
   "file_extension": ".py",
   "mimetype": "text/x-python",
   "name": "python",
   "nbconvert_exporter": "python",
   "pygments_lexer": "ipython3",
   "version": "3.9.16"
  }
 },
 "nbformat": 4,
 "nbformat_minor": 4
}
